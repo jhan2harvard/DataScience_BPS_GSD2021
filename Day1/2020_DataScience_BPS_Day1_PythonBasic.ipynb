{
 "cells": [
  {
   "cell_type": "markdown",
   "metadata": {},
   "source": [
    "### Harvard GSD  J-Term 2121 \n",
    "### Introduction to Data Science for Building Simulation\n",
    "***\n",
    "Instructor: Jung Min Han, jhan2@gsd.harvard.edu <br>\n",
    "Date/Time: Jan 11-15/ 9:00 - 11:00 a.m. <br>\n",
    "***"
   ]
  },
  {
   "cell_type": "markdown",
   "metadata": {},
   "source": [
    "# python basic"
   ]
  },
  {
   "cell_type": "markdown",
   "metadata": {},
   "source": [
    "## Basic Syntax"
   ]
  },
  {
   "cell_type": "markdown",
   "metadata": {},
   "source": [
    "## 1. variable and type"
   ]
  },
  {
   "cell_type": "code",
   "execution_count": 1,
   "metadata": {},
   "outputs": [
    {
     "name": "stdout",
     "output_type": "stream",
     "text": [
      "10\n"
     ]
    }
   ],
   "source": [
    "myVariable = 10\n",
    "\n",
    "print (myVariable)"
   ]
  },
  {
   "cell_type": "code",
   "execution_count": 2,
   "metadata": {},
   "outputs": [],
   "source": [
    "# your code here\n"
   ]
  },
  {
   "cell_type": "code",
   "execution_count": 3,
   "metadata": {},
   "outputs": [
    {
     "name": "stdout",
     "output_type": "stream",
     "text": [
      "hello world\n",
      "7\n",
      "1.23\n",
      "True\n"
     ]
    }
   ],
   "source": [
    "myString = \"hello world\"\n",
    "myInt = 7\n",
    "myFloat = 1.23\n",
    "myBool = True\n",
    "\n",
    "print (myString)\n",
    "print (myInt)\n",
    "print (myFloat)\n",
    "print (myBool)"
   ]
  },
  {
   "cell_type": "code",
   "execution_count": 4,
   "metadata": {},
   "outputs": [],
   "source": [
    "# your code here\n",
    "\n",
    "\n"
   ]
  },
  {
   "cell_type": "code",
   "execution_count": 5,
   "metadata": {},
   "outputs": [
    {
     "name": "stdout",
     "output_type": "stream",
     "text": [
      "<class 'str'>\n",
      "<class 'int'>\n",
      "<class 'bool'>\n"
     ]
    }
   ],
   "source": [
    "print (type(myString))\n",
    "print (type(myInt))\n",
    "print (type(myBool))"
   ]
  },
  {
   "cell_type": "code",
   "execution_count": 6,
   "metadata": {},
   "outputs": [],
   "source": [
    "# your code here\n",
    "\n",
    "\n"
   ]
  },
  {
   "cell_type": "markdown",
   "metadata": {},
   "source": [
    "## 2. number"
   ]
  },
  {
   "cell_type": "code",
   "execution_count": 7,
   "metadata": {},
   "outputs": [
    {
     "name": "stdout",
     "output_type": "stream",
     "text": [
      "2\n"
     ]
    }
   ],
   "source": [
    "theNum = 3\n",
    "theNum = 2\n",
    "print (theNum)"
   ]
  },
  {
   "cell_type": "code",
   "execution_count": 8,
   "metadata": {},
   "outputs": [],
   "source": [
    "# your code here\n",
    "\n",
    "\n"
   ]
  },
  {
   "cell_type": "code",
   "execution_count": 9,
   "metadata": {},
   "outputs": [
    {
     "name": "stdout",
     "output_type": "stream",
     "text": [
      "5.0\n"
     ]
    }
   ],
   "source": [
    "numA = 3 \n",
    "numB = 2.0\n",
    "theSum = numA + numB\n",
    "print (theSum)"
   ]
  },
  {
   "cell_type": "code",
   "execution_count": 10,
   "metadata": {},
   "outputs": [],
   "source": [
    "# your code here\n",
    "\n",
    "\n"
   ]
  },
  {
   "cell_type": "code",
   "execution_count": 11,
   "metadata": {},
   "outputs": [
    {
     "name": "stdout",
     "output_type": "stream",
     "text": [
      "4\n"
     ]
    }
   ],
   "source": [
    "myNum = 1\n",
    "myNum += myNum\n",
    "myNum += myNum\n",
    "print (myNum)"
   ]
  },
  {
   "cell_type": "code",
   "execution_count": 12,
   "metadata": {},
   "outputs": [],
   "source": [
    "# your code here\n",
    "\n",
    "\n"
   ]
  },
  {
   "cell_type": "code",
   "execution_count": 13,
   "metadata": {},
   "outputs": [
    {
     "name": "stdout",
     "output_type": "stream",
     "text": [
      "5.14159\n"
     ]
    }
   ],
   "source": [
    "total = ((2 ** 2 ) * 0.5 ) + 3.14159 \n",
    "print (total)"
   ]
  },
  {
   "cell_type": "code",
   "execution_count": 14,
   "metadata": {},
   "outputs": [],
   "source": [
    "# your code here\n",
    "\n",
    "\n"
   ]
  },
  {
   "cell_type": "markdown",
   "metadata": {},
   "source": [
    "## 3. comment"
   ]
  },
  {
   "cell_type": "code",
   "execution_count": 15,
   "metadata": {},
   "outputs": [
    {
     "name": "stdout",
     "output_type": "stream",
     "text": [
      "GSD 2021\n"
     ]
    }
   ],
   "source": [
    "# your school\n",
    "schoolName = \"GSD\" \n",
    "year = 2021 # the year\n",
    "'''\n",
    "this is ...\n",
    "the result below\n",
    "'''\n",
    "print (schoolName , year)"
   ]
  },
  {
   "cell_type": "code",
   "execution_count": 16,
   "metadata": {},
   "outputs": [],
   "source": [
    "# your code here\n",
    "\n",
    "\n"
   ]
  },
  {
   "cell_type": "markdown",
   "metadata": {},
   "source": [
    "## 4. string\n",
    "\n",
    "documentation: https://docs.python.org/2/library/string.html"
   ]
  },
  {
   "cell_type": "code",
   "execution_count": 17,
   "metadata": {},
   "outputs": [
    {
     "name": "stdout",
     "output_type": "stream",
     "text": [
      "hello world\n"
     ]
    }
   ],
   "source": [
    "theText = \"hello world\"\n",
    "print (theText)"
   ]
  },
  {
   "cell_type": "code",
   "execution_count": 18,
   "metadata": {},
   "outputs": [],
   "source": [
    "# your code here\n",
    "\n",
    "\n"
   ]
  },
  {
   "cell_type": "code",
   "execution_count": 19,
   "metadata": {},
   "outputs": [
    {
     "name": "stdout",
     "output_type": "stream",
     "text": [
      "h\n",
      "l\n",
      "d\n",
      "w\n",
      "11\n"
     ]
    }
   ],
   "source": [
    "print (theText[0])\n",
    "print (theText[3])\n",
    "print (theText[-1])\n",
    "print (theText[round(len(theText)/2)])\n",
    "print (len(theText))"
   ]
  },
  {
   "cell_type": "code",
   "execution_count": 20,
   "metadata": {},
   "outputs": [],
   "source": [
    "# your code here\n",
    "\n",
    "\n"
   ]
  },
  {
   "cell_type": "code",
   "execution_count": 21,
   "metadata": {},
   "outputs": [
    {
     "name": "stdout",
     "output_type": "stream",
     "text": [
      "hello gsd\n",
      "HELLO GSD\n"
     ]
    }
   ],
   "source": [
    "theString = \"Hello GSD\"\n",
    "print (theString.lower())\n",
    "print (theString.upper())"
   ]
  },
  {
   "cell_type": "code",
   "execution_count": 22,
   "metadata": {},
   "outputs": [],
   "source": [
    "# your code here\n",
    "\n",
    "\n"
   ]
  },
  {
   "cell_type": "code",
   "execution_count": 23,
   "metadata": {},
   "outputs": [
    {
     "name": "stdout",
     "output_type": "stream",
     "text": [
      "hello world, Hello GSD\n",
      "theText hello world, theString Hello GSD\n"
     ]
    }
   ],
   "source": [
    "# concatenate for string\n",
    "print (theText + \", \"+ theString)\n",
    "print (\"theText %s, theString %s\" %(theText, theString))"
   ]
  },
  {
   "cell_type": "code",
   "execution_count": 24,
   "metadata": {},
   "outputs": [],
   "source": [
    "# your code here\n",
    "\n",
    "\n"
   ]
  },
  {
   "cell_type": "markdown",
   "metadata": {},
   "source": [
    "## 5. Casting"
   ]
  },
  {
   "cell_type": "code",
   "execution_count": 25,
   "metadata": {},
   "outputs": [
    {
     "name": "stdout",
     "output_type": "stream",
     "text": [
      "myStringNum is  3 theType is <class 'str'> \n",
      " myFloatNum is 3.0 myFloatNum <class 'float'>\n",
      "30.0\n",
      "befor: <class 'float'> after casting <class 'str'>\n"
     ]
    }
   ],
   "source": [
    "myStringNum= \"3\"\n",
    "myFloatNum = 3.0\n",
    "\n",
    "print (\"myStringNum is \", myStringNum, \"theType is\", type(myStringNum),\"\\n\", \n",
    "       \"myFloatNum is\" , myFloatNum, \"myFloatNum\", type(myFloatNum))\n",
    "\n",
    "print (10 * float(myStringNum))\n",
    "print (\"befor:\", type(myFloatNum), \"after casting\" , type(str(myFloatNum)))\n"
   ]
  },
  {
   "cell_type": "code",
   "execution_count": 26,
   "metadata": {},
   "outputs": [],
   "source": [
    "# your code here\n",
    "\n",
    "\n"
   ]
  },
  {
   "cell_type": "code",
   "execution_count": 27,
   "metadata": {},
   "outputs": [
    {
     "name": "stdout",
     "output_type": "stream",
     "text": [
      "<class 'str'>\n",
      "<class 'bool'>\n"
     ]
    }
   ],
   "source": [
    "theBool =\"True\"\n",
    "print (type(theBool))\n",
    "print (type(bool(theBool)))"
   ]
  },
  {
   "cell_type": "code",
   "execution_count": 28,
   "metadata": {},
   "outputs": [],
   "source": [
    "# your code here\n",
    "\n",
    "\n"
   ]
  },
  {
   "cell_type": "markdown",
   "metadata": {},
   "source": [
    "## 6. Conditional Statement"
   ]
  },
  {
   "cell_type": "code",
   "execution_count": 29,
   "metadata": {},
   "outputs": [
    {
     "name": "stdout",
     "output_type": "stream",
     "text": [
      "False\n",
      "True\n"
     ]
    }
   ],
   "source": [
    "booA = True\n",
    "booB = False\n",
    "print (booA == booB)\n",
    "print (booA != booB)"
   ]
  },
  {
   "cell_type": "code",
   "execution_count": 30,
   "metadata": {},
   "outputs": [],
   "source": [
    "# your code here\n",
    "\n",
    "\n"
   ]
  },
  {
   "cell_type": "code",
   "execution_count": 31,
   "metadata": {},
   "outputs": [
    {
     "name": "stdout",
     "output_type": "stream",
     "text": [
      "False\n",
      "True\n"
     ]
    }
   ],
   "source": [
    "a = 10\n",
    "b = \"10\"\n",
    "print (a == b)\n",
    "print (a == int(b))"
   ]
  },
  {
   "cell_type": "code",
   "execution_count": 32,
   "metadata": {},
   "outputs": [],
   "source": [
    "# your code here\n",
    "\n",
    "\n"
   ]
  },
  {
   "cell_type": "code",
   "execution_count": 33,
   "metadata": {},
   "outputs": [
    {
     "name": "stdout",
     "output_type": "stream",
     "text": [
      "False\n",
      "True\n"
     ]
    }
   ],
   "source": [
    "boolA = 3 > 12\n",
    "print (boolA)\n",
    "boolB = 4 < 6 * 4\n",
    "print (boolB)"
   ]
  },
  {
   "cell_type": "code",
   "execution_count": 34,
   "metadata": {},
   "outputs": [],
   "source": [
    "# your code here\n",
    "\n",
    "\n"
   ]
  },
  {
   "cell_type": "code",
   "execution_count": 35,
   "metadata": {},
   "outputs": [
    {
     "name": "stdout",
     "output_type": "stream",
     "text": [
      "False\n",
      "True\n"
     ]
    }
   ],
   "source": [
    "a = 5\n",
    "b = 5.0\n",
    "print (type(a) == type(b))\n",
    "print (type(float(a)) == type(b))"
   ]
  },
  {
   "cell_type": "code",
   "execution_count": 36,
   "metadata": {},
   "outputs": [],
   "source": [
    "# your code here\n",
    "\n",
    "\n"
   ]
  },
  {
   "cell_type": "code",
   "execution_count": 37,
   "metadata": {},
   "outputs": [
    {
     "name": "stdout",
     "output_type": "stream",
     "text": [
      "True\n",
      "False\n"
     ]
    }
   ],
   "source": [
    "print (3 == 2 or 5 == 5)\n",
    "print (3 == 2 and 5 == 5)"
   ]
  },
  {
   "cell_type": "code",
   "execution_count": 38,
   "metadata": {},
   "outputs": [],
   "source": [
    "# your code here\n",
    "\n",
    "\n"
   ]
  },
  {
   "cell_type": "code",
   "execution_count": 39,
   "metadata": {},
   "outputs": [
    {
     "name": "stdout",
     "output_type": "stream",
     "text": [
      "False\n"
     ]
    }
   ],
   "source": [
    "print ((3 == 2 or 5 == 5) and  (3 == 2 and 5 == 5))"
   ]
  },
  {
   "cell_type": "code",
   "execution_count": 40,
   "metadata": {},
   "outputs": [],
   "source": [
    "# your code here\n",
    "\n",
    "\n"
   ]
  },
  {
   "cell_type": "code",
   "execution_count": 41,
   "metadata": {},
   "outputs": [
    {
     "name": "stdout",
     "output_type": "stream",
     "text": [
      "a is smaller than b\n"
     ]
    }
   ],
   "source": [
    "a = 3\n",
    "b = 5\n",
    "\n",
    "if a > b:\n",
    "    print (\"a is greater than b\")\n",
    "elif(a == b):\n",
    "    print (\"a is equal to b\")\n",
    "else:\n",
    "    print (\"a is smaller than b\")"
   ]
  },
  {
   "cell_type": "code",
   "execution_count": 42,
   "metadata": {},
   "outputs": [],
   "source": [
    "# your code here\n",
    "\n",
    "\n"
   ]
  },
  {
   "cell_type": "markdown",
   "metadata": {},
   "source": [
    "## 7. loop"
   ]
  },
  {
   "cell_type": "code",
   "execution_count": 43,
   "metadata": {},
   "outputs": [
    {
     "name": "stdout",
     "output_type": "stream",
     "text": [
      "hello world\n",
      "hello world\n",
      "hello world\n"
     ]
    }
   ],
   "source": [
    "for i in range(3):\n",
    "    print (\"hello world\")"
   ]
  },
  {
   "cell_type": "code",
   "execution_count": 44,
   "metadata": {},
   "outputs": [],
   "source": [
    "# your code here\n",
    "\n",
    "\n"
   ]
  },
  {
   "cell_type": "code",
   "execution_count": 45,
   "metadata": {},
   "outputs": [
    {
     "name": "stdout",
     "output_type": "stream",
     "text": [
      "3\n",
      "4\n",
      "5\n"
     ]
    }
   ],
   "source": [
    "for i in range(3,6):\n",
    "    print (i)"
   ]
  },
  {
   "cell_type": "code",
   "execution_count": 46,
   "metadata": {},
   "outputs": [],
   "source": [
    "# your code here\n",
    "\n",
    "\n"
   ]
  },
  {
   "cell_type": "code",
   "execution_count": 47,
   "metadata": {},
   "outputs": [
    {
     "name": "stdout",
     "output_type": "stream",
     "text": [
      "0\n",
      "odd number\n",
      "2\n",
      "odd number\n",
      "4\n",
      "odd number\n",
      "6\n",
      "odd number\n",
      "8\n",
      "odd number\n"
     ]
    }
   ],
   "source": [
    "theIter = 10\n",
    "for i in range(theIter):\n",
    "    if i % 2 == 0: # modulo operation\n",
    "        print (i)\n",
    "    else :\n",
    "        print (\"odd number\")"
   ]
  },
  {
   "cell_type": "code",
   "execution_count": 48,
   "metadata": {},
   "outputs": [],
   "source": [
    "# your code here\n",
    "\n",
    "\n"
   ]
  },
  {
   "cell_type": "code",
   "execution_count": 49,
   "metadata": {},
   "outputs": [
    {
     "name": "stdout",
     "output_type": "stream",
     "text": [
      "5\n",
      "4\n",
      "3\n",
      "2\n",
      "1\n"
     ]
    }
   ],
   "source": [
    "theIter = 5\n",
    "while theIter > 0:\n",
    "    print (theIter)\n",
    "    theIter -= 1"
   ]
  },
  {
   "cell_type": "code",
   "execution_count": 50,
   "metadata": {},
   "outputs": [],
   "source": [
    "# your code here\n",
    "\n",
    "\n"
   ]
  },
  {
   "cell_type": "code",
   "execution_count": 51,
   "metadata": {},
   "outputs": [
    {
     "name": "stdout",
     "output_type": "stream",
     "text": [
      "i = 0 , j = 0\n",
      "i = 0 , j = 1\n",
      "i = 0 , j = 2\n",
      "i = 1 , j = 0\n",
      "i = 1 , j = 1\n",
      "i = 1 , j = 2\n"
     ]
    }
   ],
   "source": [
    "for i in range(2):\n",
    "    for j in range (3):\n",
    "        print (\"i =\" , i ,\",\", \"j =\", j)"
   ]
  },
  {
   "cell_type": "code",
   "execution_count": 52,
   "metadata": {},
   "outputs": [],
   "source": [
    "# your code here\n",
    "\n",
    "\n"
   ]
  },
  {
   "cell_type": "markdown",
   "metadata": {},
   "source": [
    "## Data Structure"
   ]
  },
  {
   "cell_type": "markdown",
   "metadata": {},
   "source": [
    "## 8. List\n",
    "https://docs.python.org/2/tutorial/datastructures.html"
   ]
  },
  {
   "cell_type": "code",
   "execution_count": 53,
   "metadata": {},
   "outputs": [
    {
     "name": "stdout",
     "output_type": "stream",
     "text": [
      "[1, 2, 3, 4, 5]\n",
      "[4, 5]\n",
      "['hello world']\n",
      "['hello world', 3, 6]\n"
     ]
    }
   ],
   "source": [
    "theListA = [1,2,3,4,5]\n",
    "theListB = [\"hello world\"]\n",
    "print (theListA)\n",
    "print (theListA[3:])\n",
    "\n",
    "print (theListB)\n",
    "\n",
    "theListB.append(3)\n",
    "theListB.append(6)\n",
    "print (theListB)"
   ]
  },
  {
   "cell_type": "code",
   "execution_count": 54,
   "metadata": {},
   "outputs": [],
   "source": [
    "# your code here\n",
    "\n",
    "\n"
   ]
  },
  {
   "cell_type": "code",
   "execution_count": 55,
   "metadata": {},
   "outputs": [
    {
     "name": "stdout",
     "output_type": "stream",
     "text": [
      "lo GSD\n",
      "the length of string is 9 .\n",
      "---------------------------\n",
      "h\n",
      "e\n",
      "l\n",
      "l\n",
      "o\n",
      " \n",
      "G\n",
      "S\n",
      "D\n"
     ]
    }
   ],
   "source": [
    "theString = \"hello GSD\"\n",
    "print (theString[3:])\n",
    "print (\"the length of string is\",len(theString), \".\")\n",
    "print (\"---------------------------\")\n",
    "for i in theString:\n",
    "    print (i)"
   ]
  },
  {
   "cell_type": "code",
   "execution_count": 56,
   "metadata": {},
   "outputs": [],
   "source": [
    "# your code here\n",
    "\n",
    "\n"
   ]
  },
  {
   "cell_type": "code",
   "execution_count": 57,
   "metadata": {},
   "outputs": [
    {
     "name": "stdout",
     "output_type": "stream",
     "text": [
      "apple\n",
      "banana\n",
      "orange\n",
      "pear\n"
     ]
    }
   ],
   "source": [
    "basket = ['apple', 'orange', 'apple', 'pear', 'orange', 'banana']\n",
    "basket = set(basket) # https://docs.python.org/2/library/sets.html\n",
    "for f in sorted(basket):\n",
    "    print (f)"
   ]
  },
  {
   "cell_type": "code",
   "execution_count": 58,
   "metadata": {},
   "outputs": [],
   "source": [
    "# your code here\n",
    "\n",
    "\n"
   ]
  },
  {
   "cell_type": "code",
   "execution_count": 59,
   "metadata": {},
   "outputs": [
    {
     "name": "stdout",
     "output_type": "stream",
     "text": [
      "1\n",
      "2\n",
      "5\n",
      "8\n",
      "9\n"
     ]
    }
   ],
   "source": [
    "myList = [1,2,5,8,9]\n",
    "for i in myList:\n",
    "    print (i)"
   ]
  },
  {
   "cell_type": "code",
   "execution_count": 60,
   "metadata": {},
   "outputs": [],
   "source": [
    "# your code here\n",
    "\n",
    "\n"
   ]
  },
  {
   "cell_type": "code",
   "execution_count": 61,
   "metadata": {},
   "outputs": [
    {
     "name": "stdout",
     "output_type": "stream",
     "text": [
      "5\n",
      "9\n"
     ]
    }
   ],
   "source": [
    "print (len(myList))\n",
    "print (myList[-1])"
   ]
  },
  {
   "cell_type": "code",
   "execution_count": 62,
   "metadata": {},
   "outputs": [],
   "source": [
    "# your code here\n",
    "\n",
    "\n"
   ]
  },
  {
   "cell_type": "code",
   "execution_count": 63,
   "metadata": {},
   "outputs": [
    {
     "name": "stdout",
     "output_type": "stream",
     "text": [
      "[0, 10, 20, 30, 40, 50, 60, 70, 80, 90]\n"
     ]
    }
   ],
   "source": [
    "theNewList = []\n",
    "for i in range(10):\n",
    "    theNewList.append(i*10)\n",
    "print (theNewList)"
   ]
  },
  {
   "cell_type": "code",
   "execution_count": 64,
   "metadata": {},
   "outputs": [],
   "source": [
    "# your code here\n",
    "\n",
    "\n"
   ]
  },
  {
   "cell_type": "code",
   "execution_count": 65,
   "metadata": {},
   "outputs": [
    {
     "data": {
      "text/plain": [
       "5"
      ]
     },
     "execution_count": 65,
     "metadata": {},
     "output_type": "execute_result"
    }
   ],
   "source": [
    "theNewList.index(50)"
   ]
  },
  {
   "cell_type": "code",
   "execution_count": 66,
   "metadata": {},
   "outputs": [],
   "source": [
    "# your code here\n",
    "\n",
    "\n"
   ]
  },
  {
   "cell_type": "markdown",
   "metadata": {
    "collapsed": true
   },
   "source": [
    "In-built function of List, python\n",
    "https://docs.python.org/2/tutorial/datastructures.html"
   ]
  },
  {
   "cell_type": "code",
   "execution_count": 67,
   "metadata": {},
   "outputs": [
    {
     "name": "stdout",
     "output_type": "stream",
     "text": [
      "[1, 2, 3, 'gsd', -5, True, 'mdes', 10]\n",
      "[0, 1, 2, 3, 'gsd', -5, True, 'mdes', 10]\n",
      "[0, 1, 2, 3, -5, True, 'mdes', 10]\n"
     ]
    }
   ],
   "source": [
    "myList = [1,2,3,\"gsd\", -5, True,'mdes',10]\n",
    "print (myList)\n",
    "myList.insert(0, 0)\n",
    "print (myList)\n",
    "myList.remove('gsd')\n",
    "print (myList)"
   ]
  },
  {
   "cell_type": "code",
   "execution_count": 68,
   "metadata": {},
   "outputs": [],
   "source": [
    "# your code here\n",
    "\n",
    "\n"
   ]
  },
  {
   "cell_type": "code",
   "execution_count": 69,
   "metadata": {},
   "outputs": [
    {
     "name": "stdout",
     "output_type": "stream",
     "text": [
      "[0, 1, 2, 3, -5, True, 'mdes']\n"
     ]
    }
   ],
   "source": [
    "myList.pop()\n",
    "print (myList)"
   ]
  },
  {
   "cell_type": "code",
   "execution_count": 70,
   "metadata": {},
   "outputs": [],
   "source": [
    "# your code here\n",
    "\n",
    "\n"
   ]
  },
  {
   "cell_type": "code",
   "execution_count": 71,
   "metadata": {},
   "outputs": [
    {
     "name": "stdout",
     "output_type": "stream",
     "text": [
      "[0, 1, 3, -5, True, 'mdes']\n"
     ]
    }
   ],
   "source": [
    "myList.pop(2) # index\n",
    "print (myList)"
   ]
  },
  {
   "cell_type": "code",
   "execution_count": 72,
   "metadata": {},
   "outputs": [],
   "source": [
    "# your code here\n",
    "\n",
    "\n"
   ]
  },
  {
   "cell_type": "code",
   "execution_count": 73,
   "metadata": {},
   "outputs": [
    {
     "name": "stdout",
     "output_type": "stream",
     "text": [
      "['mdes', True, -5, 3, 1, 0]\n"
     ]
    }
   ],
   "source": [
    "myList.reverse()\n",
    "print (myList)"
   ]
  },
  {
   "cell_type": "code",
   "execution_count": 74,
   "metadata": {},
   "outputs": [],
   "source": [
    "# your code here\n",
    "\n",
    "\n"
   ]
  },
  {
   "cell_type": "markdown",
   "metadata": {},
   "source": [
    "## 9. Dictionary\n",
    "https://docs.python.org/2/tutorial/datastructures.html"
   ]
  },
  {
   "cell_type": "code",
   "execution_count": 75,
   "metadata": {},
   "outputs": [
    {
     "name": "stdout",
     "output_type": "stream",
     "text": [
      "{'height': 170, 'name': 'Tony', 'weight': 65}\n",
      "Tony\n",
      "65\n"
     ]
    }
   ],
   "source": [
    "person = {'height': 170, \"name\": 'Tony', \"weight\": 65  }\n",
    "print (person)\n",
    "print (person['name'])\n",
    "print (person['weight'])"
   ]
  },
  {
   "cell_type": "code",
   "execution_count": 76,
   "metadata": {},
   "outputs": [],
   "source": [
    "# your code here\n",
    "\n",
    "\n"
   ]
  },
  {
   "cell_type": "code",
   "execution_count": 77,
   "metadata": {},
   "outputs": [
    {
     "name": "stdout",
     "output_type": "stream",
     "text": [
      "{'height': 170, 'name': 'Tony', 'weight': 65, 'adress': 'Cambridge, MA'}\n"
     ]
    }
   ],
   "source": [
    "person['adress'] = 'Cambridge, MA'\n",
    "print (person)"
   ]
  },
  {
   "cell_type": "code",
   "execution_count": 78,
   "metadata": {},
   "outputs": [],
   "source": [
    "# your code here\n",
    "\n",
    "\n"
   ]
  },
  {
   "cell_type": "code",
   "execution_count": 79,
   "metadata": {},
   "outputs": [
    {
     "name": "stdout",
     "output_type": "stream",
     "text": [
      "{'height': 180, 'name': 'Tony', 'weight': 65, 'adress': 'Cambridge, MA'}\n"
     ]
    }
   ],
   "source": [
    "person['height'] += 10\n",
    "print (person)"
   ]
  },
  {
   "cell_type": "code",
   "execution_count": 80,
   "metadata": {},
   "outputs": [],
   "source": [
    "# your code here\n",
    "\n",
    "\n"
   ]
  },
  {
   "cell_type": "code",
   "execution_count": 81,
   "metadata": {},
   "outputs": [
    {
     "name": "stdout",
     "output_type": "stream",
     "text": [
      "{'height': 180, 'name': 'Tony', 'weight': 65, 'adress': 'Cambridge, MA', 'skill': ['rhino', 'grasshopper', 'photoshop']}\n"
     ]
    }
   ],
   "source": [
    "person[\"skill\"] = ['rhino', 'grasshopper', 'photoshop']\n",
    "print (person)"
   ]
  },
  {
   "cell_type": "code",
   "execution_count": 82,
   "metadata": {},
   "outputs": [],
   "source": [
    "# your code here\n",
    "\n",
    "\n"
   ]
  },
  {
   "cell_type": "code",
   "execution_count": 83,
   "metadata": {},
   "outputs": [
    {
     "name": "stdout",
     "output_type": "stream",
     "text": [
      "180\n",
      "Tony\n",
      "65\n",
      "Cambridge, MA\n",
      "the skill 0 : rhino\n",
      "the skill 1 : grasshopper\n",
      "the skill 2 : photoshop\n"
     ]
    }
   ],
   "source": [
    "for i in person:\n",
    "    content = person[i]\n",
    "    if(type(content) == list):\n",
    "        for j, skill in enumerate(content):\n",
    "            print (\"the skill\",j , \":\", skill)\n",
    "    else:\n",
    "        print (content)"
   ]
  },
  {
   "cell_type": "code",
   "execution_count": 84,
   "metadata": {},
   "outputs": [],
   "source": [
    "# your code here\n",
    "\n",
    "\n"
   ]
  },
  {
   "cell_type": "code",
   "execution_count": 85,
   "metadata": {},
   "outputs": [
    {
     "name": "stdout",
     "output_type": "stream",
     "text": [
      "{'a': [0, 1, 2], 'b': [0, 1, 2], 'c': [0, 1, 2]}\n"
     ]
    }
   ],
   "source": [
    "theIndex = [\"a\", \"b\", \"c\"]\n",
    "theNewDic = {} # Empty dictionary\n",
    "for j in theIndex:\n",
    "    lst = []\n",
    "    for i in range(3):\n",
    "        lst.append(i);\n",
    "    theNewDic[str(j)] = lst\n",
    "print (theNewDic)"
   ]
  },
  {
   "cell_type": "code",
   "execution_count": 86,
   "metadata": {},
   "outputs": [],
   "source": [
    "# your code here\n",
    "\n",
    "\n"
   ]
  },
  {
   "cell_type": "markdown",
   "metadata": {},
   "source": [
    "## 10. Tuple\n",
    "https://docs.python.org/2/tutorial/datastructures.html"
   ]
  },
  {
   "cell_type": "code",
   "execution_count": 87,
   "metadata": {},
   "outputs": [
    {
     "name": "stdout",
     "output_type": "stream",
     "text": [
      "(1, 2, 3)\n",
      "1\n"
     ]
    }
   ],
   "source": [
    "theTuple = (1,2, 3)\n",
    "print (theTuple)\n",
    "print (theTuple[0])"
   ]
  },
  {
   "cell_type": "code",
   "execution_count": 88,
   "metadata": {},
   "outputs": [],
   "source": [
    "# your code here\n",
    "\n",
    "\n"
   ]
  },
  {
   "cell_type": "code",
   "execution_count": 89,
   "metadata": {},
   "outputs": [
    {
     "name": "stdout",
     "output_type": "stream",
     "text": [
      "(1, 2, 3, 1, 2, 3)\n",
      "(1, 2, 3, 'a', 'b', 'c')\n"
     ]
    }
   ],
   "source": [
    "tA = (1,2,3)\n",
    "print (tA * 2)\n",
    "\n",
    "tB = ('a','b','c')\n",
    "tC = (tA + tB)\n",
    "print (tC)"
   ]
  },
  {
   "cell_type": "code",
   "execution_count": 90,
   "metadata": {},
   "outputs": [],
   "source": [
    "# your code here\n",
    "\n",
    "\n"
   ]
  },
  {
   "cell_type": "code",
   "execution_count": 91,
   "metadata": {},
   "outputs": [
    {
     "name": "stdout",
     "output_type": "stream",
     "text": [
      "<zip object at 0x00000218F3DDED48>\n",
      "a 1\n",
      "b 2\n",
      "c 3\n"
     ]
    }
   ],
   "source": [
    "theIndex = [\"a\", \"b\", \"c\"]\n",
    "theList = [1,2,3]\n",
    "theTuple = zip(theIndex, theList)\n",
    "print (theTuple)\n",
    "for i in theTuple:\n",
    "    print (i[0], i[1])"
   ]
  },
  {
   "cell_type": "code",
   "execution_count": 92,
   "metadata": {},
   "outputs": [],
   "source": [
    "# your code here\n",
    "\n",
    "\n"
   ]
  },
  {
   "cell_type": "code",
   "execution_count": 93,
   "metadata": {},
   "outputs": [
    {
     "name": "stdout",
     "output_type": "stream",
     "text": [
      "(1, 2, 3)\n",
      "<class 'tuple'>\n",
      "[1, 2, 3]\n",
      "<class 'list'>\n",
      "(1, 2, 3)\n",
      "<class 'tuple'>\n"
     ]
    }
   ],
   "source": [
    "theTuple = (1,2,3)\n",
    "print (theTuple)\n",
    "print (type(theTuple))\n",
    "\n",
    "newList = list(theTuple)\n",
    "print (newList)\n",
    "print (type(newList))\n",
    "\n",
    "newTuple = tuple(newList)\n",
    "print (newTuple)\n",
    "print (type(newTuple))\n"
   ]
  },
  {
   "cell_type": "code",
   "execution_count": 94,
   "metadata": {},
   "outputs": [],
   "source": [
    "# your code here\n",
    "\n",
    "\n"
   ]
  },
  {
   "cell_type": "markdown",
   "metadata": {},
   "source": [
    "### 11. Function"
   ]
  },
  {
   "cell_type": "code",
   "execution_count": 95,
   "metadata": {},
   "outputs": [
    {
     "name": "stdout",
     "output_type": "stream",
     "text": [
      "13\n"
     ]
    }
   ],
   "source": [
    "def theSum(a,b):\n",
    "    print (a + b)\n",
    "theSum(10,3)"
   ]
  },
  {
   "cell_type": "code",
   "execution_count": 96,
   "metadata": {},
   "outputs": [],
   "source": [
    "# your code here\n",
    "\n",
    "\n"
   ]
  },
  {
   "cell_type": "code",
   "execution_count": 97,
   "metadata": {},
   "outputs": [
    {
     "name": "stdout",
     "output_type": "stream",
     "text": [
      "13\n"
     ]
    }
   ],
   "source": [
    "def theSum(a,b):\n",
    "    return a + b\n",
    "mySum = theSum(10,3)\n",
    "print (mySum)"
   ]
  },
  {
   "cell_type": "code",
   "execution_count": 98,
   "metadata": {},
   "outputs": [],
   "source": [
    "# your code here\n",
    "\n",
    "\n"
   ]
  },
  {
   "cell_type": "code",
   "execution_count": 99,
   "metadata": {},
   "outputs": [
    {
     "name": "stdout",
     "output_type": "stream",
     "text": [
      "yes\n",
      "0\n",
      "--------------------------------\n",
      "no\n",
      "-1\n",
      "--------------------------------\n",
      "yes\n",
      "3\n"
     ]
    }
   ],
   "source": [
    "def find_A_character_from_word(word):\n",
    "    theWord = word.upper()\n",
    "    for i, char in enumerate(theWord):\n",
    "        if(char == \"A\"):\n",
    "            print (\"yes\")\n",
    "            return i\n",
    "    print (\"no\")\n",
    "    return -1\n",
    "theIndex = find_A_character_from_word(\"apple\")\n",
    "print (theIndex)\n",
    "print (\"--------------------------------\")\n",
    "\n",
    "theIndex = find_A_character_from_word(\"lemon\")\n",
    "print (theIndex)\n",
    "print (\"--------------------------------\")\n",
    "\n",
    "theIndex = find_A_character_from_word(\"strawberry\")\n",
    "print (theIndex)"
   ]
  },
  {
   "cell_type": "code",
   "execution_count": 100,
   "metadata": {},
   "outputs": [],
   "source": [
    "# your code here\n",
    "\n",
    "\n"
   ]
  },
  {
   "cell_type": "code",
   "execution_count": 103,
   "metadata": {},
   "outputs": [
    {
     "name": "stdout",
     "output_type": "stream",
     "text": [
      "number of iteration?30\n",
      "min3\n",
      "max14\n",
      "[7, 3, 11, 6, 7, 11, 9, 4, 7, 4, 11, 12, 5, 9, 14, 7, 10, 12, 10, 9, 10, 7, 14, 10, 9, 14, 10, 6, 14, 13]\n",
      "275\n"
     ]
    }
   ],
   "source": [
    "import random \n",
    "\n",
    "def getRandomValue(theMin, theMax):\n",
    "    return random.randint(theMin, theMax)\n",
    "\n",
    "def getNumofValue(theIter, theMin, theMax):\n",
    "    outList = []\n",
    "    for i in range(theIter):\n",
    "        outList.append(getRandomValue(theMin, theMax))\n",
    "    return outList\n",
    "\n",
    "\n",
    "theIter = int(input(\"number of iteration?\"))\n",
    "theMin = int(input(\"min\"))\n",
    "theMax = int(input(\"max\"))\n",
    "theList = getNumofValue(theIter, theMin, theMax)\n",
    "print (theList)\n",
    "print (sum(theList))"
   ]
  },
  {
   "cell_type": "code",
   "execution_count": 104,
   "metadata": {},
   "outputs": [],
   "source": [
    "# your code here\n",
    "\n",
    "\n"
   ]
  },
  {
   "cell_type": "code",
   "execution_count": 105,
   "metadata": {},
   "outputs": [
    {
     "name": "stdout",
     "output_type": "stream",
     "text": [
      "01/10/2021\n",
      "010:43:48\n",
      "01/10/2021 010:43:48\n"
     ]
    }
   ],
   "source": [
    "from datetime import datetime # https://docs.python.org/2/library/datetime.html\n",
    "now = datetime.now()\n",
    "\n",
    "print ('0%s/%s/%s' % (now.month, now.day, now.year))\n",
    "\n",
    "from datetime import datetime\n",
    "now = datetime.now()\n",
    "\n",
    "print ('0%s:%s:%s' % (now.hour, now.minute, now.second))\n",
    "\n",
    "from datetime import datetime\n",
    "now = datetime.now()\n",
    "\n",
    "print ('0%s/%s/%s 0%s:%s:%s' % (now.month, now.day, now.year, now.hour, now.minute, now.second))\n"
   ]
  },
  {
   "cell_type": "code",
   "execution_count": 106,
   "metadata": {},
   "outputs": [],
   "source": [
    "# your code here\n",
    "\n",
    "\n"
   ]
  },
  {
   "cell_type": "code",
   "execution_count": 107,
   "metadata": {},
   "outputs": [
    {
     "name": "stdout",
     "output_type": "stream",
     "text": [
      "['__doc__', '__loader__', '__name__', '__package__', '__spec__', 'acos', 'acosh', 'asin', 'asinh', 'atan', 'atan2', 'atanh', 'ceil', 'copysign', 'cos', 'cosh', 'degrees', 'e', 'erf', 'erfc', 'exp', 'expm1', 'fabs', 'factorial', 'floor', 'fmod', 'frexp', 'fsum', 'gamma', 'gcd', 'hypot', 'inf', 'isclose', 'isfinite', 'isinf', 'isnan', 'ldexp', 'lgamma', 'log', 'log10', 'log1p', 'log2', 'modf', 'nan', 'pi', 'pow', 'radians', 'sin', 'sinh', 'sqrt', 'tan', 'tanh', 'tau', 'trunc']\n",
      "1.5707963267948966\n",
      "90.0\n"
     ]
    }
   ],
   "source": [
    "import math\n",
    "print (dir(math))\n",
    "\n",
    "def degreeFromRadians(degrees):\n",
    "    return (degrees * (math.pi / 180.0))        \n",
    "\n",
    "def radiansFromDegree(radians):\n",
    "    return (radians * (180.0 / math.pi))\n",
    "\n",
    "theValue = 90 \n",
    "thesult = degreeFromRadians(90)\n",
    "print (thesult)\n",
    "print (radiansFromDegree(thesult))"
   ]
  },
  {
   "cell_type": "code",
   "execution_count": 108,
   "metadata": {},
   "outputs": [],
   "source": [
    "# your code here\n",
    "\n",
    "\n"
   ]
  }
 ],
 "metadata": {
  "anaconda-cloud": {},
  "kernelspec": {
   "display_name": "Python 3",
   "language": "python",
   "name": "python3"
  },
  "language_info": {
   "codemirror_mode": {
    "name": "ipython",
    "version": 3
   },
   "file_extension": ".py",
   "mimetype": "text/x-python",
   "name": "python",
   "nbconvert_exporter": "python",
   "pygments_lexer": "ipython3",
   "version": "3.6.10"
  }
 },
 "nbformat": 4,
 "nbformat_minor": 1
}
